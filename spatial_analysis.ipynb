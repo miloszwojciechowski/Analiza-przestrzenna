{
 "cells": [
  {
   "cell_type": "code",
   "execution_count": 1,
   "metadata": {},
   "outputs": [],
   "source": [
    "import sys\n",
    "import arcpy\n",
    "from arcpy.sa import *\n",
    "from arcpy import env"
   ]
  },
  {
   "cell_type": "code",
   "execution_count": 2,
   "metadata": {},
   "outputs": [],
   "source": [
    "# nadpisywanie plików\n",
    "arcpy.env.overwriteOutput=True"
   ]
  },
  {
   "cell_type": "code",
   "execution_count": 3,
   "metadata": {},
   "outputs": [
    {
     "data": {
      "text/plain": [
       "'CheckedOut'"
      ]
     },
     "execution_count": 3,
     "metadata": {},
     "output_type": "execute_result"
    }
   ],
   "source": [
    "# sprawdzanie rozszerzeń\n",
    "# https://pro.arcgis.com/en/pro-app/latest/arcpy/functions/checkextension.htm\n",
    "arcpy.CheckOutExtension(\"Spatial\")\n",
    "arcpy.CheckOutExtension(\"3D\")"
   ]
  },
  {
   "cell_type": "code",
   "execution_count": 4,
   "metadata": {},
   "outputs": [],
   "source": [
    "# ustawienia środowiska pracy\n",
    "# data paths/ścieżka katalogu\n",
    "arcpy.env.workspace = r\"A:\\Studia\\analizy_przestrzenne\\MiloszWojciechowski\\projekt1\\Wyniki\"\n",
    "\n",
    "# processing extent (obszar na którym będą wykonywane analizy)\n",
    "arcpy.env.extent = r\"A:\\Studia\\analizy_przestrzenne\\MiloszWojciechowski\\projekt1\\swieradow_buffer.shp\"\n",
    "\n",
    "# output coordinate system\n",
    "arcpy.env.outputCoordinateSystem = arcpy.SpatialReference(\"ETRS_1989_Poland_CS92\")\n",
    "\n",
    "# cell size\n",
    "arcpy.env.cellSize = 1"
   ]
  },
  {
   "cell_type": "code",
   "execution_count": 5,
   "metadata": {},
   "outputs": [
    {
     "data": {
      "text/html": [
       "<div class='gpresult'><h2>Messages</h2><div id='messages' data-messages='[\"Start Time: czwartek, 12 stycznia 2023 19:31:12\",\"Succeeded at czwartek, 12 stycznia 2023 19:31:13 (Elapsed Time: 0,46 seconds)\"]' data-show='true'><div id = 'default' /></div></div>"
      ],
      "text/plain": [
       "<Result 'A:\\\\Studia\\\\analizy_przestrzenne\\\\MiloszWojciechowski\\\\projekt1\\\\Wyniki\\\\swieradowzdroj_Buffer.shp'>"
      ]
     },
     "execution_count": 5,
     "metadata": {},
     "output_type": "execute_result"
    }
   ],
   "source": [
    "#przypisanie warstw do zmiennych\n",
    "budynki = \"bubd\"\n",
    "rzeki = \"swrs\"\n",
    "drogi = \"skdr\"\n",
    "lasy = \"ptlz\"\n",
    "wody_powierzchniowe = \"ptwp\"\n",
    "gazociag = \"gazociag\"\n",
    "gleby = \"gleby_gm_swieradow\"\n",
    "hotele = \"hotele\"\n",
    "gmina = \"swieradow\""
   ]
  },
  {
   "cell_type": "markdown",
   "metadata": {},
   "source": [
    "# Opracowywanie kryteriów"
   ]
  },
  {
   "cell_type": "markdown",
   "metadata": {},
   "source": [
    "1.Odległośc od konkurencji: min. 400m"
   ]
  },
  {
   "cell_type": "code",
   "execution_count": null,
   "metadata": {},
   "outputs": [],
   "source": [
    "#Stworzenie mapy odegłości, a następnie przydatności terenu\n",
    "euclidean_distance = EucDistance(hotele)\n",
    "mapa_odleglosci = ExtractByMask(euclidean_distance,gmina)\n",
    "hotele_kryterium1 = FuzzyMembership(mapa_odleglosci,FuzzyLinear(400,500))"
   ]
  },
  {
   "cell_type": "markdown",
   "metadata": {},
   "source": [
    "2.Odległość od budynków mieszkalnych: 25-150 m"
   ]
  },
  {
   "cell_type": "code",
   "execution_count": 6,
   "metadata": {},
   "outputs": [
    {
     "data": {
      "text/html": [
       "<div class='gpresult'><h2>Messages</h2><div id='messages' data-messages='[\"Start Time: czwartek, 12 stycznia 2023 19:33:12\",\"Succeeded at czwartek, 12 stycznia 2023 19:33:12 (Elapsed Time: 0,03 seconds)\"]' data-show='true'><div id = 'default' /></div></div>"
      ],
      "text/plain": [
       "<Result 'bubd'>"
      ]
     },
     "execution_count": 6,
     "metadata": {},
     "output_type": "execute_result"
    }
   ],
   "source": [
    "# Przycięcie warstwy budynków\n",
    "budynkiMieszkalne = arcpy.management.SelectLayerByLocation(budynki, \"INTERSECT\", \"swieradow_buffer\", None, \"NEW_SELECTION\", \"NOT_INVERT\")\n",
    "budynkiMieszkalne = arcpy.management.SelectLayerByAttribute(budynki, \"SUBSET_SELECTION\", \"X_KOD = 'BUBD01' Or X_KOD = 'BUBD03' Or X_KOD = 'BUBD04'\", None)\n",
    "arcpy.management.CopyFeatures(budynkiMieszkalne, r\"budynki_mieszkalne\")\n",
    "\n",
    "#stworzenie mapy odległości i przydatności terenu\n",
    "euclidean_distance = EucDistance(\"budynki_mieszkalne\")\n",
    "mapa_odleglosci = ExtractByMask(euclidean_distance,gmina)\n",
    "mapa_bez_mieszkan1 = FuzzyMembership(mapa_odleglosci,FuzzyLinear(0,25))\n",
    "mapa_bez_mieszkan2 = FuzzyMembership(mapa_odleglosci,FuzzyLinear(250,190))\n",
    "budynkiMieszkalne_kryterium2 = mapa_bez_mieszkan1 * mapa_bez_mieszkan2\n",
    "\n",
    "# Wyczyszczenie selecta\n",
    "arcpy.SelectLayerByAttribute_management(budynkiMieszkalne, \"CLEAR_SELECTION\")"
   ]
  },
  {
   "cell_type": "markdown",
   "metadata": {},
   "source": [
    "3.Odległość od istniejących dróg: 15-100 m"
   ]
  },
  {
   "cell_type": "code",
   "execution_count": 7,
   "metadata": {},
   "outputs": [],
   "source": [
    "# Przycięcie warstwy dróg\n",
    "drogi = arcpy.analysis.Clip(drogi, \"swieradow_buffer\", r\"drogi\", None)\n",
    "\n",
    "#Opracowanie kryterium\n",
    "euclidean_distance = EucDistance(drogi)\n",
    "mapa_odleglosci = ExtractByMask(euclidean_distance,gmina)\n",
    "mapa_drogi1 = FuzzyMembership(mapa_odleglosci,FuzzyLinear(0,15))\n",
    "mapa_drogi2 = FuzzyMembership(mapa_odleglosci,FuzzyLinear(210,150))\n",
    "drogi_kryterium3 = mapa_drogi1 * mapa_drogi2"
   ]
  },
  {
   "cell_type": "markdown",
   "metadata": {},
   "source": [
    "4.Odległość od rzek i zbiorników wodnych: min. 20m"
   ]
  },
  {
   "cell_type": "code",
   "execution_count": 8,
   "metadata": {},
   "outputs": [
    {
     "data": {
      "text/html": [
       "<div class='gpresult'><h2>Messages</h2><div id='messages' data-messages='[\"Start Time: czwartek, 12 stycznia 2023 19:43:20\",\"Succeeded at czwartek, 12 stycznia 2023 19:43:20 (Elapsed Time: 0,04 seconds)\"]' data-show='true'><div id = 'default' /></div></div>"
      ],
      "text/plain": [
       "<Result 'ptwp'>"
      ]
     },
     "execution_count": 8,
     "metadata": {},
     "output_type": "execute_result"
    }
   ],
   "source": [
    "#Opracowanie 1 części kryterium\n",
    "euclidean_distance = EucDistance(\"rzeki\")\n",
    "mapa_odleglosci = ExtractByMask(euclidean_distance,gmina)\n",
    "rzeki_ostre = FuzzyMembership(mapa_odleglosci,FuzzyLinear(20,20.1))\n",
    "rzeki_miekkie = FuzzyMembership(mapa_odleglosci,FuzzyLinear(900,500))\n",
    "rzeki_kryterium4 = rzeki_ostre*rzeki_miekkie\n",
    "\n",
    "#Przycięcie warstwy wód powierzchniowych\n",
    "wody_powierzchniowe = arcpy.management.SelectLayerByLocation(wody_powierzchniowe, \"INTERSECT\", \"swieradow_buffer\", None, \"NEW_SELECTION\", \"NOT_INVERT\")\n",
    "arcpy.management.CopyFeatures(wody_powierzchniowe, r\"wody_powierzchniowe\")\n",
    "\n",
    "#Opracowanie 2 części kryterium\n",
    "euclidean_distance = EucDistance(\"wody_powierzchniowe\")\n",
    "mapa_odleglosci = ExtractByMask(euclidean_distance,gmina)\n",
    "wody_ostre = FuzzyMembership(mapa_odleglosci,FuzzyLinear(20,20.1))\n",
    "wody_miekkie = FuzzyMembership(mapa_odleglosci,FuzzyLinear(900,500))\n",
    "wody_kryterium4 = wody_ostre*wody_miekkie\n",
    "\n",
    "# Wyczyszczenie selecta\n",
    "arcpy.SelectLayerByAttribute_management(wody_powierzchniowe, \"CLEAR_SELECTION\")"
   ]
  },
  {
   "cell_type": "markdown",
   "metadata": {},
   "source": [
    "5.Pokrycie terenu: nie w lesie"
   ]
  },
  {
   "cell_type": "code",
   "execution_count": null,
   "metadata": {},
   "outputs": [],
   "source": [
    "# Przycięcie warstwy lasów\n",
    "lasy = arcpy.management.SelectLayerByLocation(lasy, \"INTERSECT\", \"swieradow_buffer\", None, \"NEW_SELECTION\", \"NOT_INVERT\")\n",
    "lasy = arcpy.management.SelectLayerByAttribute(lasy, \"SUBSET_SELECTION\", \"RODZAJ = 'las' Or RODZAJ = 'zagajnik'\", None)\n",
    "arcpy.management.CopyFeatures(lasy, r\"lasy\")\n",
    "\n",
    "#Opracowanie kryterium\n",
    "arcpy.conversion.FeatureToRaster(lasy, \"RODZAJ\", r\"mapa_lasow\", 1)\n",
    "arcpy.ddd.Reclassify(\"mapa_lasow\", \"RODZAJ\", \"las 0;zagajnik 0;NODATA 1\", r\"lasy_raster\", \"DATA\")\n",
    "lasy_kryterium5 = ExtractByMask(\"lasy_raster\",gmina)\n",
    "\n",
    "# Wyczyszczenie selecta\n",
    "arcpy.SelectLayerByAttribute_management(lasy, \"CLEAR_SELECTION\")"
   ]
  },
  {
   "cell_type": "markdown",
   "metadata": {},
   "source": [
    "6.Nachylenie stoków: max. 20%"
   ]
  },
  {
   "cell_type": "code",
   "execution_count": null,
   "metadata": {},
   "outputs": [],
   "source": [
    "#Utworzenie mapy nachylenia stoków\n",
    "nachylenie = Slope(\"gmina_swieradow_raster.tif\", \"PERCENT_RISE\")\n",
    "\n",
    "#Przycięcie mapy do granic gminy\n",
    "nachylenie_przyciete = ExtractByMask(nachylenie,gmina)\n",
    "\n",
    "#Utworzenie mapy przydatności terenu\n",
    "nachylenie_kryterium6 = FuzzyMembership(nachylenie_przyciete,FuzzyLinear(21,10))"
   ]
  },
  {
   "cell_type": "markdown",
   "metadata": {},
   "source": [
    "7.Dostęp do światła słonecznego: stoki południowe (SW-SE)"
   ]
  },
  {
   "cell_type": "code",
   "execution_count": 34,
   "metadata": {},
   "outputs": [],
   "source": [
    "#Mapa kierunków nachylenia stoków\n",
    "naslonecznienie = Aspect(\"gmina_swieradow_raster.tif\")\n",
    "naslonecznienie_przyciete = ExtractByMask(naslonecznienie,gmina)\n",
    "\n",
    "#Opracowanie mapy przydatności kierunków nachylenia stoków\n",
    "naslonecznienie_przydatnosc1 = FuzzyMembership(naslonecznienie_przyciete,FuzzyLinear(90,112.5))\n",
    "naslonecznienie_przydatnosc2 = FuzzyMembership(naslonecznienie_przyciete,FuzzyLinear(270,247.5))\n",
    "naslonecznienie_przydatnosc = naslonecznienie_przydatnosc1 * naslonecznienie_przydatnosc2\n",
    "\n",
    "#Przypisanie płaskiemu terenowi o wartości nasłonecznienia -1 wartości 1 przydatności terenu\n",
    "naslonecznienie_kryterium7 = arcpy.ia.Con(naslonecznienie_przyciete, 1, naslonecznienie_przydatnosc, \"VALUE = -1\")"
   ]
  },
  {
   "cell_type": "markdown",
   "metadata": {},
   "source": [
    "8.Poza strefą ochronną gazociągu: min. 25m"
   ]
  },
  {
   "cell_type": "code",
   "execution_count": null,
   "metadata": {},
   "outputs": [],
   "source": [
    "euclidean_distance = EucDistance(\"gazociag\")\n",
    "mapa_odleglosci = ExtractByMask(euclidean_distance,gmina)\n",
    "gazociag_ostre = FuzzyMembership(mapa_odleglosci,FuzzyLinear(25,25.1))\n",
    "gazociag_kryterium8 = FuzzyMembership(mapa_odleglosci,FuzzyLinear(25,300))"
   ]
  },
  {
   "cell_type": "markdown",
   "metadata": {},
   "source": [
    "9.Użytkowanie terenu"
   ]
  },
  {
   "cell_type": "code",
   "execution_count": 35,
   "metadata": {},
   "outputs": [
    {
     "data": {
      "text/html": [
       "<div class='gpresult'><h2>Messages</h2><div id='messages' data-messages='[\"Start Time: czwartek, 12 stycznia 2023 03:23:44\",\"Succeeded at czwartek, 12 stycznia 2023 03:23:50 (Elapsed Time: 5,86 seconds)\"]' data-show='true'><div id = 'default' /></div></div>"
      ],
      "text/plain": [
       "<Result 'A:\\\\Studia\\\\analizy_przestrzenne\\\\MiloszWojciechowski\\\\projekt1\\\\Wyniki\\\\mapa_gleb'>"
      ]
     },
     "execution_count": 35,
     "metadata": {},
     "output_type": "execute_result"
    }
   ],
   "source": [
    "#Stworzenie nowego atrybutu bool, który przypisze wartości 0/1 odpowiednim typom gleb\n",
    "arcpy.management.CalculateField(\"gleby_gm_swieradow\", \"Usefulness\", \"selekcja(!TYP!)\", \"PYTHON3\", \"\"\"def selekcja(typ):\n",
    "    if typ in ['G','E','M','T','F','Fb','Fc','FG']:\n",
    "        return 0\n",
    "    else:\n",
    "        return 1\"\"\", \"SHORT\", \"NO_ENFORCE_DOMAINS\")\n",
    "\n",
    "arcpy.conversion.FeatureToRaster(\"gleby_gm_swieradow\", \"Usefulness\", r\"mapa_gleb\", 1)"
   ]
  },
  {
   "cell_type": "markdown",
   "metadata": {},
   "source": [
    "# Łączenie kryteriów"
   ]
  },
  {
   "cell_type": "markdown",
   "metadata": {},
   "source": [
    "Łączenie kryteriów ostrych"
   ]
  },
  {
   "cell_type": "code",
   "execution_count": 9,
   "metadata": {},
   "outputs": [
    {
     "ename": "RuntimeError",
     "evalue": "Nieprawidłowy wskaźnik. ",
     "output_type": "error",
     "traceback": [
      "\u001b[0;31m---------------------------------------------------------------------------\u001b[0m\n\u001b[0;31mRuntimeError\u001b[0m                              Traceback (most recent call last)",
      "In  \u001b[0;34m[9]\u001b[0m:\nLine \u001b[0;34m3\u001b[0m:     kryteria_ostre = arcpy.sa.FuzzyOverlay(kryteria_ostre_lista, \u001b[33m\"\u001b[39;49;00m\u001b[33mAND\u001b[39;49;00m\u001b[33m\"\u001b[39;49;00m, \u001b[34m0.9\u001b[39;49;00m); kryteria_ostre.save(\u001b[33mr\u001b[39;49;00m\u001b[33m\"\u001b[39;49;00m\u001b[33mA:\u001b[39;49;00m\u001b[33m\\\u001b[39;49;00m\u001b[33mStudia\u001b[39;49;00m\u001b[33m\\\u001b[39;49;00m\u001b[33manalizy_przestrzenne\u001b[39;49;00m\u001b[33m\\\u001b[39;49;00m\u001b[33mMiloszWojciechowski\u001b[39;49;00m\u001b[33m\\\u001b[39;49;00m\u001b[33mprojekt1\u001b[39;49;00m\u001b[33m\\\u001b[39;49;00m\u001b[33mWyniki\u001b[39;49;00m\u001b[33m\\\u001b[39;49;00m\u001b[33mkryt_ostre\u001b[39;49;00m\u001b[33m\"\u001b[39;49;00m)\n",
      "\u001b[0;31mRuntimeError\u001b[0m: Nieprawidłowy wskaźnik. \n\u001b[0;31m---------------------------------------------------------------------------\u001b[0m"
     ]
    }
   ],
   "source": [
    "#Połączenie warstw kryteriów ostrych\n",
    "kryteria_ostre_lista = [\"mapa_gleb\", \"lasy_kryterium5\", \"wody_ostre\", \"rzeki_ostre\", \"gazociag_ostre\"]\n",
    "kryteria_ostre = arcpy.sa.FuzzyOverlay(kryteria_ostre_lista, \"AND\", 0.9); kryteria_ostre.save(r\"A:\\Studia\\analizy_przestrzenne\\MiloszWojciechowski\\projekt1\\Wyniki\\kryt_ostre\")"
   ]
  },
  {
   "cell_type": "markdown",
   "metadata": {},
   "source": [
    "Łączenie kryteriów miękkich"
   ]
  },
  {
   "cell_type": "code",
   "execution_count": 10,
   "metadata": {},
   "outputs": [],
   "source": [
    "#Różne wagi kryteriów\n",
    "kryterium1 = [\"hotele_kryterium1\", \"VALUE\", 0.05]\n",
    "kryterium2 = [\"budynkiMieszkalne_kryterium2\", \"VALUE\", 0.05]\n",
    "kryterium3 = [\"drogi_kryterium3\", \"VALUE\", 0.2]\n",
    "kryterium4Rzeki = [\"rzeki_kryterium4\", \"VALUE\", 0.1]\n",
    "kryterium4Wody = [\"wody_kryterium4\", \"VALUE\", 0.15]\n",
    "kryterium6 = [\"nachylenie_kryterium6\", \"VALUE\", 0.2]\n",
    "kryterium7 = [\"naslonecznienie_kryterium7\", \"VALUE\", 0.1]\n",
    "kryterium8 = [\"gazociag_kryterium8\", \"VALUE\", 0.15]\n",
    "\n",
    "kryteria_miekkie_rozne = arcpy.ia.WeightedSum(WSTable([kryterium1, kryterium2,\n",
    "                                                      kryterium3, kryterium4Rzeki,\n",
    "                                                      kryterium4Wody, kryterium6,\n",
    "                                                      kryterium7, kryterium8])); kryteria_miekkie_rozne.save(r\"A:\\Studia\\analizy_przestrzenne\\MiloszWojciechowski\\projekt1\\MyProject\\MyProject.gdb\\kryteria_miekkie_rozne\")\n",
    "\n",
    "\n",
    "#Te same wagi we wszystkich kryteriach\n",
    "kryt1 = [\"hotele_kryterium1\", \"VALUE\", 0.125]\n",
    "kryt2 = [\"budynkiMieszkalne_kryterium2\", \"VALUE\", 0.125]\n",
    "kryt3 = [\"drogi_kryterium3\", \"VALUE\", 0.125]\n",
    "kryt4Rzeki = [\"rzeki_kryterium4\", \"VALUE\", 0.125]\n",
    "kryt4Wody = [\"wody_kryterium4\", \"VALUE\", 0.125]\n",
    "kryt6 = [\"nachylenie_kryterium6\", \"VALUE\", 0.125]\n",
    "kryt7 = [\"naslonecznienie_kryterium7\", \"VALUE\", 0.125]\n",
    "kryt8 = [\"gazociag_kryterium8\", \"VALUE\", 0.125]\n",
    "\n",
    "kryteria_miekkie_rowne = arcpy.ia.WeightedSum(WSTable([kryt1, kryt2, kryt3, kryt4Rzeki,\n",
    "                                                      kryt4Wody, kryt6, kryt7, kryt8])); kryteria_miekkie_rozne.save(r\"A:\\Studia\\analizy_przestrzenne\\MiloszWojciechowski\\projekt1\\MyProject\\MyProject.gdb\\kryteria_miekkie_rowne\")"
   ]
  },
  {
   "cell_type": "markdown",
   "metadata": {},
   "source": [
    "Połączenie wszystkich kryteriów"
   ]
  },
  {
   "cell_type": "code",
   "execution_count": 11,
   "metadata": {},
   "outputs": [],
   "source": [
    "#Połączenie kryteriów ostrych i miękkich kryteriów miękkich o różnych wagach\n",
    "rozne_wagi = kryteria_ostre * kryteria_miekkie_rozne\n",
    "\n",
    "#Połączenie kryteriów ostrych i miękkich kryteriów miękkich o takich samych wagach\n",
    "rowne_wagi = kryteria_ostre * kryteria_miekkie_rowne"
   ]
  },
  {
   "cell_type": "markdown",
   "metadata": {},
   "source": [
    "Reklasyfikacja map przydatności terenu od progu 0,8"
   ]
  },
  {
   "cell_type": "code",
   "execution_count": 12,
   "metadata": {},
   "outputs": [],
   "source": [
    "#Reklasyfikacja dla różnych wag\n",
    "reclassed_rozne = arcpy.sa.Reclassify(\"rozne_wagi\", \"VALUE\", \"0 0,8 0;0,8 1 1\")\n",
    "\n",
    "#Reklasyfikacja dla takich samych wag\n",
    "reclassed_rowne = arcpy.sa.Reclassify(\"rowne_wagi\", \"VALUE\", \"0 0,8 0;0,8 1 1\")"
   ]
  },
  {
   "cell_type": "markdown",
   "metadata": {},
   "source": [
    "# Opracowanie kryteriów 10 i 11 oraz wynik"
   ]
  },
  {
   "cell_type": "markdown",
   "metadata": {},
   "source": [
    "Stworzenie mapy kosztów względnych"
   ]
  },
  {
   "cell_type": "code",
   "execution_count": 13,
   "metadata": {},
   "outputs": [],
   "source": [
    "#Dodanie wszystkich warstw pokrycia terenu do jednej listy\n",
    "tab = ['PL.PZGiK.337.0210__OT_PTZB_A', 'PL.PZGiK.337.0210__OT_PTWZ_A', 'PL.PZGiK.337.0210__OT_PTWP_A', 'PL.PZGiK.337.0210__OT_PTUT_A', 'PL.PZGiK.337.0210__OT_PTTR_A', 'PL.PZGiK.337.0210__OT_PTSO_A', 'PL.PZGiK.337.0210__OT_PTRK_A', 'PL.PZGiK.337.0210__OT_PTPL_A', 'PL.PZGiK.337.0210__OT_PTNZ_A', 'PL.PZGiK.337.0210__OT_PTLZ_A', 'PL.PZGiK.337.0210__OT_PTKM_A', 'PL.PZGiK.337.0210__OT_PTGN_A']\n",
    "\n",
    "#Połączenie wszystkich warstw pokrycia terenu w jedną\n",
    "pokrycie_terenu = arcpy.management.Merge(tab, 'pokrycie_terenu')\n",
    "\n",
    "#Dodanie do tabeli atrybutów nowego pola \"koszt\" z wartościami kosztów odpowiednimi dla każdego pokrycia\n",
    "arcpy.management.CalculateField(\"pokrycie_terenu\", \"koszt\", \"temp(!X_KOD!)\", \"PYTHON3\", \"\"\"def temp(kod):\n",
    "    dict = {'PTWP01':0,\n",
    "    'PTWP02':200,\n",
    "    'PTWP03':0,\n",
    "    'PTZB01':200,\n",
    "    'PTZB02':100,\n",
    "    'PTZB03':200,\n",
    "    'PTZB04':200,\n",
    "    'PTZB05':50,\n",
    "    'PTLZ01':100,\n",
    "    'PTLZ02':50,\n",
    "    'PTLZ03':50,\n",
    "    'PTRK':15,\n",
    "    'PTRK02':15,\n",
    "    'PTUT01':0,\n",
    "    'PTUT02':90,\n",
    "    'PTUT03':100,\n",
    "    'PTUT04':20,\n",
    "    'PTUT05':20,\n",
    "    'PTTR01':20,\n",
    "    'PTTR02':1,\n",
    "    'PTKM01':100,\n",
    "    'PTKM02':200,\n",
    "    'PTKM03':0,\n",
    "    'PTKM04':0,\n",
    "    'PTGN01':1,\n",
    "    'PTGN02':1,\n",
    "    'PTGN03':1,\n",
    "    'PTGN04':1,\n",
    "    'PTPL01':50,\n",
    "    'PTSO01':0,\n",
    "    'PTSO02':0,\n",
    "    'PTWZ01':0,\n",
    "    'PTWZ02':0,\n",
    "    'PTNZ01':150,\n",
    "    'PTNZ02':150}\n",
    "\n",
    "    \n",
    "    return dict[kod]\n",
    "\n",
    "\"\"\", \"SHORT\", \"NO_ENFORCE_DOMAINS\")\n",
    "\n",
    "#Zamiana warstwy wektorowej na raster\n",
    "mapa_kosztow = arcpy.conversion.PolygonToRaster(\"pokrycie_terenu\", \"koszt\", r\"A:\\Studia\\analizy_przestrzenne\\MiloszWojciechowski\\projekt1\\MyProject\\MyProject.gdb\\mapa_kosztow\")\n",
    "\n",
    "#Reklasyfikacja wartości mapy, żeby wartość 0 stała się wartością No Data\n",
    "Mapa_kosztow_ost = arcpy.sa.Reclassify(\"mapa_kosztow\", \"Value\", \"0 NODATA;1 1;15 15;20 20;50 50;100 100;150 150;200 200\", \"DATA\"); Mapa_kosztow_ost.save(r\"A:\\Studia\\analizy_przestrzenne\\MiloszWojciechowski\\projekt1\\MyProject\\MyProject.gdb\\Mapa_kosztow_ost\")\n",
    "Mapa_kosztow_ost = ExtractByMask(Mapa_kosztow_ost,gmina)"
   ]
  },
  {
   "cell_type": "markdown",
   "metadata": {},
   "source": [
    "Kryterium 10: przydatne działki i obszary i 11:kształt obszaru - jak najbardziej zwarty"
   ]
  },
  {
   "cell_type": "code",
   "execution_count": 25,
   "metadata": {
    "scrolled": true
   },
   "outputs": [
    {
     "data": {
      "text/html": [
       "<div class='gpresult'><h2>Messages</h2><div id='messages' data-messages='[\"Start Time: środa, 11 stycznia 2023 22:01:15\",\"Succeeded at środa, 11 stycznia 2023 22:01:17 (Elapsed Time: 1,85 seconds)\"]' data-show='true'><div id = 'default' /></div></div>"
      ],
      "text/plain": [
       "<Result 'A:\\\\Studia\\\\analizy_przestrzenne\\\\MiloszWojciechowski\\\\projekt1\\\\Wyniki\\\\dzialki2.shp'>"
      ]
     },
     "execution_count": 25,
     "metadata": {},
     "output_type": "execute_result"
    }
   ],
   "source": [
    "#Utworzenie kopii warstwy dzialek, na której będzie działać skrypt dla równych wartości wag\n",
    "arcpy.management.CopyFeatures(\"dzialki\", r\"dzialki2\")"
   ]
  },
  {
   "cell_type": "markdown",
   "metadata": {},
   "source": [
    "Scenariusz dla różnych wartości wag"
   ]
  },
  {
   "cell_type": "code",
   "execution_count": 25,
   "metadata": {
    "scrolled": true
   },
   "outputs": [
    {
     "data": {
      "text/html": [
       "<div class='gpresult'><h2>Messages</h2><div id='messages' data-messages='[\"Start Time: czwartek, 12 stycznia 2023 23:35:54\",\"Succeeded at czwartek, 12 stycznia 2023 23:35:54 (Elapsed Time: 0,10 seconds)\"]' data-show='true'><div id = 'default' /></div></div>"
      ],
      "text/plain": [
       "<Result 'dzialki'>"
      ]
     },
     "execution_count": 25,
     "metadata": {},
     "output_type": "execute_result"
    }
   ],
   "source": [
    "#Zamiana rastru z połączonymi kryteriami na poligony\n",
    "poligon_rozne = arcpy.conversion.RasterToPolygon(\"reclassed_rozne\", r\"A:\\Studia\\analizy_przestrzenne\\MiloszWojciechowski\\projekt1\\MyProject\\MyProject.gdb\\polygon_Reclass_rozne\", \"NO_SIMPLIFY\", \"Value\", \"SINGLE_OUTER_PART\", None)\n",
    "\n",
    "#Wybór tylko tych poligonów, których przydatność wynosi 1\n",
    "arcpy.management.SelectLayerByAttribute(\"polygon_Reclass_rozne\", \"NEW_SELECTION\", \"gridcode = 1\")\n",
    "\n",
    "#Stworzenie tabeli z atrybutem podającym procent przydantych ziem w stosunku do powierzchni działki\n",
    "arcpy.analysis.TabulateIntersection(\"dzialki\", \"ID_DZIALKI\", \"polygon_Reclass_rozne\", r\"A:\\Studia\\analizy_przestrzenne\\MiloszWojciechowski\\projekt1\\MyProject\\MyProject.gdb\\TabulateIntersection_rozne\", None, None, None, \"UNKNOWN\")\n",
    "\n",
    "#Dodanie do tabeli atrybutów warstwy działek tabeli z atrybutami z poprzedniego kroku\n",
    "arcpy.management.AddJoin(\"dzialki\", \"ID_DZIALKI\", \"TabulateIntersection_rozne\", \"ID_DZIALKI\", \"KEEP_ALL\", \"NO_INDEX_JOIN_FIELDS\")\n",
    "\n",
    "#Wybór tych działek, w których pożądany teren stanowi min. 70% ich powierzchni\n",
    "arcpy.management.SelectLayerByAttribute(\"dzialki\", \"NEW_SELECTION\", \"PERCENTAGE >= 70\")\n",
    "\n",
    "#Zapis pasujących działek do pliku\n",
    "arcpy.management.CopyFeatures(\"dzialki\", r\"dobre_dzialki_rozne\")\n",
    "\n",
    "#Połączenie ze sobą sąsiadujących działek\n",
    "arcpy.management.Dissolve(\"dobre_dzialki_rozne\", r\"A:\\Studia\\analizy_przestrzenne\\MiloszWojciechowski\\projekt1\\MyProject\\MyProject.gdb\\dobre_dzialki_rozne_Dissolve\",None, None, \"SINGLE_PART\")\n",
    "\n",
    "#Wybranie tych działek, których powierzchnia jest większa od 1ha\n",
    "arcpy.management.SelectLayerByAttribute(\"dobre_dzialki_rozne_Dissolve\", \"NEW_SELECTION\", \"Shape_Area >= 10000\")\n",
    "\n",
    "#Zapis pasujących działek do pliku\n",
    "arcpy.management.CopyFeatures(\"dobre_dzialki_rozne_Dissolve\", r\"dzialki_rozne_min_1ha\")\n",
    "\n",
    "#Stworzenie mapy kosztów skumulowanych i mapy kierunków\n",
    "koszty_skumulowane_rozne = arcpy.sa.CostDistance(\"dobre_dzialki_rozne_Dissolve\", \"Mapa_kosztow_ost\")\n",
    "koszty_skumulowane_rozne.save(r\"A:\\Studia\\analizy_przestrzenne\\MiloszWojciechowski\\projekt1\\MyProject\\MyProject.gdb\\koszty_skumulowane_rozne\")\n",
    "\n",
    "#Stworzenie mapy kierunków\n",
    "mapa_kierunkiRozne = arcpy.sa.CostBackLink(\"dobre_dzialki_rozne_Dissolve\", \"Mapa_kosztow_ost\")\n",
    "mapa_kierunkiRozne.save(r\"A:\\Studia\\analizy_przestrzenne\\MiloszWojciechowski\\projekt1\\MyProject\\MyProject.gdb\\mapa_kierunkiRozne\")\n",
    "\n",
    "#Wyczyszczenie selecta\n",
    "arcpy.SelectLayerByAttribute_management(\"polygon_Reclass_rozne\", \"CLEAR_SELECTION\")\n",
    "arcpy.SelectLayerByAttribute_management(\"dzialki\", \"CLEAR_SELECTION\")"
   ]
  },
  {
   "cell_type": "code",
   "execution_count": 27,
   "metadata": {},
   "outputs": [],
   "source": [
    "#Stworzenie najtańszego przyłącza do gazociągu\n",
    "przylacze_gazociag_rozne = arcpy.sa.CostPath(\"gazociag\", \"koszty_skumulowane_rozne\", \"mapa_kierunkiRozne\", \"BEST_SINGLE\", \"Id\", \"INPUT_RANGE\"); przylacze_gazociag_rozne.save(r\"A:\\Studia\\analizy_przestrzenne\\MiloszWojciechowski\\projekt1\\MyProject\\MyProject.gdb\\przylacze_gazociag_rozne\")"
   ]
  },
  {
   "cell_type": "code",
   "execution_count": 26,
   "metadata": {},
   "outputs": [
    {
     "data": {
      "text/html": [
       "<div class='gpresult'><h2>Messages</h2><div id='messages' data-messages='[\"Start Time: czwartek, 12 stycznia 2023 23:38:12\",\"Adding Compactnes to dzialki_rozne_min_1ha...\",\"Succeeded at czwartek, 12 stycznia 2023 23:38:12 (Elapsed Time: 0,12 seconds)\"]' data-show='true'><div id = 'default' /></div></div>"
      ],
      "text/plain": [
       "<Result 'dzialki_rozne_min_1ha'>"
      ]
     },
     "execution_count": 26,
     "metadata": {},
     "output_type": "execute_result"
    }
   ],
   "source": [
    "#Dodanie atrybutu zawierającego stopień zwartości działki\n",
    "arcpy.management.CalculateField(\"dzialki_rozne_min_1ha\", \"Compactnes\", \"(!Shape_Area!/(math.pi*(!Shape_Leng!/(2*math.pi))*2))*0.5\",\n",
    "                                \"PYTHON3\", None, \"DOUBLE\")\n",
    "\n",
    "#Wybranie działki z najwyższą wartością współczynnika zwartości\n",
    "arcpy.analysis.Select(\"dzialki_rozne_min_1ha\", \"dzialka_wynik_rozne_wagi\", \n",
    "                      \"Compactnes = (SELECT (MAX(Compactnes)) FROM dzialki_rozne_min_1ha)\")"
   ]
  },
  {
   "cell_type": "markdown",
   "metadata": {},
   "source": [
    "Scenariusz dla równych wartości wag"
   ]
  },
  {
   "cell_type": "code",
   "execution_count": 35,
   "metadata": {},
   "outputs": [
    {
     "data": {
      "text/html": [
       "<div class='gpresult'><h2>Messages</h2><div id='messages' data-messages='[\"Start Time: środa, 11 stycznia 2023 22:32:09\",\"Succeeded at środa, 11 stycznia 2023 22:32:10 (Elapsed Time: 0,18 seconds)\"]' data-show='true'><div id = 'default' /></div></div>"
      ],
      "text/plain": [
       "<Result 'dzialki2'>"
      ]
     },
     "execution_count": 35,
     "metadata": {},
     "output_type": "execute_result"
    }
   ],
   "source": [
    "#Zamiana rastru z połączonymi kryteriami na poligony\n",
    "poligon_rowne = arcpy.conversion.RasterToPolygon(\"reclassed_rowne\", r\"A:\\Studia\\analizy_przestrzenne\\MiloszWojciechowski\\projekt1\\MyProject\\MyProject.gdb\\polygon_Reclass_rowne\", \"NO_SIMPLIFY\", \"Value\", \"SINGLE_OUTER_PART\", None)\n",
    "\n",
    "#Wybór tylko tych poligonów, których przydatność wynosi 1\n",
    "arcpy.management.SelectLayerByAttribute(\"polygon_Reclass_rowne\", \"NEW_SELECTION\", \"gridcode = 1\")\n",
    "\n",
    "#Stworzenie tabeli z atrybutem podającym procent przydantych ziem w stosunku do powierzchni działki\n",
    "arcpy.analysis.TabulateIntersection(\"dzialki2\", \"ID_DZIALKI\", \"polygon_Reclass_rowne\", r\"A:\\Studia\\analizy_przestrzenne\\MiloszWojciechowski\\projekt1\\MyProject\\MyProject.gdb\\TabulateIntersection_rowne\", None, None, None, \"UNKNOWN\")\n",
    "\n",
    "#Dodanie do tabeli atrybutów warstwy działek atrybutów z poprzedniego kroku\n",
    "arcpy.management.AddJoin(\"dzialki2\", \"ID_DZIALKI\", \"TabulateIntersection_rowne\", \"ID_DZIALKI\", \"KEEP_ALL\", \"NO_INDEX_JOIN_FIELDS\")\n",
    "\n",
    "#Wybór tych działek, w których pożądany teren stanowi min. 70% ich powierzchni\n",
    "arcpy.management.SelectLayerByAttribute(\"dzialki2\", \"NEW_SELECTION\", \"PERCENTAGE >= 70\")\n",
    "\n",
    "#Zapis pasujących działek do pliku\n",
    "arcpy.management.CopyFeatures(\"dzialki2\", r\"dobre_dzialki_rowne\")\n",
    "\n",
    "#Połączenie ze sobą sąsiadujących działek\n",
    "arcpy.management.Dissolve(\"dobre_dzialki_rozne\", r\"A:\\Studia\\analizy_przestrzenne\\MiloszWojciechowski\\projekt1\\MyProject\\MyProject.gdb\\dobre_dzialki_rowne_Dissolve\",None, None, \"SINGLE_PART\")\n",
    "\n",
    "#Wybranie tych działek, których powierzchnia jest większa od 1ha\n",
    "arcpy.management.SelectLayerByAttribute(\"dobre_dzialki_rowne_Dissolve\", \"NEW_SELECTION\", \"Shape_Area >= 10000\")\n",
    "\n",
    "#Zapis pasujących działek do pliku\n",
    "arcpy.management.CopyFeatures(\"dobre_dzialki_rowne_Dissolve\", r\"dzialki_rowne_min_1ha\")\n",
    "\n",
    "#Stworzenie mapy kosztów skumulowanych i mapy kierunków\n",
    "koszty_skumulowane_rowne = arcpy.sa.CostDistance(\"dobre_dzialki_rowne_Dissolve\", \"Mapa_kosztow_ost\")\n",
    "koszty_skumulowane_rowne.save(r\"A:\\Studia\\analizy_przestrzenne\\MiloszWojciechowski\\projekt1\\MyProject\\MyProject.gdb\\koszty_skumulowane_rowne\")\n",
    "\n",
    "#Stworzenie mapy kierunków\n",
    "mapa_kierunkiRowne = arcpy.sa.CostBackLink(\"dobre_dzialki_rowne_Dissolve\", \"Mapa_kosztow_ost\")\n",
    "mapa_kierunkiRowne.save(r\"A:\\Studia\\analizy_przestrzenne\\MiloszWojciechowski\\projekt1\\MyProject\\MyProject.gdb\\mapa_kierunkiRowne\")\n",
    "\n",
    "#Wyczyszczenie selecta\n",
    "arcpy.SelectLayerByAttribute_management(\"polygon_Reclass_rowne\", \"CLEAR_SELECTION\")\n",
    "arcpy.SelectLayerByAttribute_management(\"dzialki2\", \"CLEAR_SELECTION\")"
   ]
  },
  {
   "cell_type": "code",
   "execution_count": 23,
   "metadata": {},
   "outputs": [],
   "source": [
    "#Stworzenie najtańszego przyłącza do gazociągu\n",
    "przylacze_gazociag_rowne = arcpy.sa.CostPath(\"gazociag\", \"koszty_skumulowane_rowne\", \"mapa_kierunkiRowne\", \"BEST_SINGLE\", \"Id\", \"INPUT_RANGE\"); przylacze_gazociag_rowne.save(r\"A:\\Studia\\analizy_przestrzenne\\MiloszWojciechowski\\projekt1\\MyProject\\MyProject.gdb\\przylacze_gazociag_rowne\")"
   ]
  },
  {
   "cell_type": "code",
   "execution_count": 23,
   "metadata": {},
   "outputs": [
    {
     "data": {
      "text/html": [
       "<div class='gpresult'><h2>Messages</h2><div id='messages' data-messages='[\"Start Time: czwartek, 12 stycznia 2023 23:31:40\",\"Adding Compactnes to dzialki_rozne_min_1ha...\",\"Succeeded at czwartek, 12 stycznia 2023 23:31:40 (Elapsed Time: 0,12 seconds)\"]' data-show='true'><div id = 'default' /></div></div>"
      ],
      "text/plain": [
       "<Result 'dzialki_rozne_min_1ha'>"
      ]
     },
     "execution_count": 23,
     "metadata": {},
     "output_type": "execute_result"
    }
   ],
   "source": [
    "#Dodanie atrybutu zawierającego stopień zwartości działki\n",
    "arcpy.management.CalculateField(\"dzialki_rozne_min_1ha\", \"Compactnes\", \"(!Shape_Area!/(math.pi*(!Shape_Leng!/(2*math.pi))*2))*0.5\",\n",
    "                                \"PYTHON3\", None, \"DOUBLE\")\n",
    "\n",
    "#Wybranie działki z najwyższą wartością współczynnika zwartości\n",
    "arcpy.analysis.Select(\"dzialki_rowne_min_1ha\", \"dzialka_wynik_rowne_wagi\", \n",
    "                      \"Compactnes = (SELECT (MAX(Compactnes)) FROM dzialki_rowne_min_1ha)\")"
   ]
  }
 ],
 "metadata": {
  "kernelspec": {
   "display_name": "ArcGISPro",
   "language": "Python",
   "name": "python3"
  },
  "language_info": {
   "file_extension": ".py",
   "name": "python",
   "version": "3"
  }
 },
 "nbformat": 4,
 "nbformat_minor": 2
}
